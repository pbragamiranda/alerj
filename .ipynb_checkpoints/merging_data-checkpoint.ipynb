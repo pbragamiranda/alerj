{
 "cells": [
  {
   "cell_type": "code",
   "execution_count": 10,
   "metadata": {},
   "outputs": [],
   "source": [
    "import pandas as pd\n",
    "pd.set_option('display.max_columns', None)\n",
    "pd.set_option('display.max_rows', None)\n",
    "\n",
    "fp_entries = './data/expenditures_transposed_30082020.csv'\n",
    "fp_personal_info = './data/alerj_personal_transposed.csv'\n",
    "fp_cost_center = './data/cost_center_transposed.csv'\n",
    "\n",
    "entries = pd.read_csv(fp_entries, sep='|')\n",
    "personal = pd.read_csv(fp_personal_info, sep=',')\n",
    "cost_center = pd.read_csv(fp_cost_center, sep='|')"
   ]
  },
  {
   "cell_type": "code",
   "execution_count": 14,
   "metadata": {},
   "outputs": [],
   "source": [
    "entries['congressman_id'] = entries['congressman_id'].astype(float).astype(int) "
   ]
  },
  {
   "cell_type": "code",
   "execution_count": 19,
   "metadata": {},
   "outputs": [],
   "source": [
    "entries_personal = entries.merge(personal, on='congressman_id')\n",
    "entries_personal = entries_personal.drop(columns=['name', 'nickname']) "
   ]
  },
  {
   "cell_type": "code",
   "execution_count": 28,
   "metadata": {},
   "outputs": [],
   "source": [
    "complete = entries_personal.merge(cost_center, left_on='cost_center_id', right_on='id')\n",
    "complete = complete.drop(columns=['id'])\n",
    "complete.rename(columns={\"name\": \"cost_center_name\"}, inplace=True)"
   ]
  },
  {
   "cell_type": "code",
   "execution_count": 30,
   "metadata": {},
   "outputs": [],
   "source": [
    "complete_clean = complete[['congressman_id', 'congressman_name', 'congressman_nickname', 'party_code', 'party_name', 'email',\n",
    "                           'date', 'value', 'object', 'to', 'cost_center_id', 'cost_center_name']]"
   ]
  },
  {
   "cell_type": "code",
   "execution_count": 33,
   "metadata": {},
   "outputs": [
    {
     "data": {
      "text/html": [
       "<div>\n",
       "<style scoped>\n",
       "    .dataframe tbody tr th:only-of-type {\n",
       "        vertical-align: middle;\n",
       "    }\n",
       "\n",
       "    .dataframe tbody tr th {\n",
       "        vertical-align: top;\n",
       "    }\n",
       "\n",
       "    .dataframe thead th {\n",
       "        text-align: right;\n",
       "    }\n",
       "</style>\n",
       "<table border=\"1\" class=\"dataframe\">\n",
       "  <thead>\n",
       "    <tr style=\"text-align: right;\">\n",
       "      <th></th>\n",
       "      <th>congressman_id</th>\n",
       "      <th>congressman_name</th>\n",
       "      <th>congressman_nickname</th>\n",
       "      <th>party_code</th>\n",
       "      <th>party_name</th>\n",
       "      <th>email</th>\n",
       "      <th>date</th>\n",
       "      <th>value</th>\n",
       "      <th>object</th>\n",
       "      <th>to</th>\n",
       "      <th>cost_center_id</th>\n",
       "      <th>cost_center_name</th>\n",
       "    </tr>\n",
       "  </thead>\n",
       "  <tbody>\n",
       "    <tr>\n",
       "      <th>0</th>\n",
       "      <td>1</td>\n",
       "      <td>Alana Passos</td>\n",
       "      <td>Alana Passos</td>\n",
       "      <td>PSL</td>\n",
       "      <td>Partido Social Liberal</td>\n",
       "      <td>alanapassos@alerj.rj.gov.br</td>\n",
       "      <td>2020-05-18 14:36:39</td>\n",
       "      <td>-6500.0</td>\n",
       "      <td>LOCAÇÃO DE VEÍCULO COROLA</td>\n",
       "      <td>HORIZONTE LOCADORA DE VEÍCULOS</td>\n",
       "      <td>21</td>\n",
       "      <td>VI.a - Locação ou fretamento de veículos autom...</td>\n",
       "    </tr>\n",
       "    <tr>\n",
       "      <th>1</th>\n",
       "      <td>1</td>\n",
       "      <td>Alana Passos</td>\n",
       "      <td>Alana Passos</td>\n",
       "      <td>PSL</td>\n",
       "      <td>Partido Social Liberal</td>\n",
       "      <td>alanapassos@alerj.rj.gov.br</td>\n",
       "      <td>2020-04-18 13:36:31</td>\n",
       "      <td>-6500.0</td>\n",
       "      <td>LOCAÇÃO DE VEÍCULO COROLLA</td>\n",
       "      <td>HORIZONTE LOCADORA DE VEÍCULOS</td>\n",
       "      <td>21</td>\n",
       "      <td>VI.a - Locação ou fretamento de veículos autom...</td>\n",
       "    </tr>\n",
       "    <tr>\n",
       "      <th>2</th>\n",
       "      <td>1</td>\n",
       "      <td>Alana Passos</td>\n",
       "      <td>Alana Passos</td>\n",
       "      <td>PSL</td>\n",
       "      <td>Partido Social Liberal</td>\n",
       "      <td>alanapassos@alerj.rj.gov.br</td>\n",
       "      <td>2020-03-18 15:20:06</td>\n",
       "      <td>-6500.0</td>\n",
       "      <td>Locação de Veículo Corolla</td>\n",
       "      <td>HORIZONTE LOCADORA DE VEÍCULOS</td>\n",
       "      <td>21</td>\n",
       "      <td>VI.a - Locação ou fretamento de veículos autom...</td>\n",
       "    </tr>\n",
       "    <tr>\n",
       "      <th>3</th>\n",
       "      <td>1</td>\n",
       "      <td>Alana Passos</td>\n",
       "      <td>Alana Passos</td>\n",
       "      <td>PSL</td>\n",
       "      <td>Partido Social Liberal</td>\n",
       "      <td>alanapassos@alerj.rj.gov.br</td>\n",
       "      <td>2020-01-18 18:17:43</td>\n",
       "      <td>-6500.0</td>\n",
       "      <td>Locação de veículo Corolla</td>\n",
       "      <td>HORIZONTE LOCADORA DE VEÍCULOS</td>\n",
       "      <td>21</td>\n",
       "      <td>VI.a - Locação ou fretamento de veículos autom...</td>\n",
       "    </tr>\n",
       "    <tr>\n",
       "      <th>4</th>\n",
       "      <td>1</td>\n",
       "      <td>Alana Passos</td>\n",
       "      <td>Alana Passos</td>\n",
       "      <td>PSL</td>\n",
       "      <td>Partido Social Liberal</td>\n",
       "      <td>alanapassos@alerj.rj.gov.br</td>\n",
       "      <td>2019-12-18 15:44:01</td>\n",
       "      <td>-6500.0</td>\n",
       "      <td>LOCAÇÃO DE VEÍCULO BLINDADO TOYOTA COROLLA</td>\n",
       "      <td>HORIZONTE LOCADORA DE VEÍCULOS</td>\n",
       "      <td>21</td>\n",
       "      <td>VI.a - Locação ou fretamento de veículos autom...</td>\n",
       "    </tr>\n",
       "  </tbody>\n",
       "</table>\n",
       "</div>"
      ],
      "text/plain": [
       "   congressman_id congressman_name congressman_nickname party_code  \\\n",
       "0               1     Alana Passos         Alana Passos        PSL   \n",
       "1               1     Alana Passos         Alana Passos        PSL   \n",
       "2               1     Alana Passos         Alana Passos        PSL   \n",
       "3               1     Alana Passos         Alana Passos        PSL   \n",
       "4               1     Alana Passos         Alana Passos        PSL   \n",
       "\n",
       "               party_name                        email                 date  \\\n",
       "0  Partido Social Liberal  alanapassos@alerj.rj.gov.br  2020-05-18 14:36:39   \n",
       "1  Partido Social Liberal  alanapassos@alerj.rj.gov.br  2020-04-18 13:36:31   \n",
       "2  Partido Social Liberal  alanapassos@alerj.rj.gov.br  2020-03-18 15:20:06   \n",
       "3  Partido Social Liberal  alanapassos@alerj.rj.gov.br  2020-01-18 18:17:43   \n",
       "4  Partido Social Liberal  alanapassos@alerj.rj.gov.br  2019-12-18 15:44:01   \n",
       "\n",
       "    value                                      object  \\\n",
       "0 -6500.0                   LOCAÇÃO DE VEÍCULO COROLA   \n",
       "1 -6500.0                  LOCAÇÃO DE VEÍCULO COROLLA   \n",
       "2 -6500.0                  Locação de Veículo Corolla   \n",
       "3 -6500.0                  Locação de veículo Corolla   \n",
       "4 -6500.0  LOCAÇÃO DE VEÍCULO BLINDADO TOYOTA COROLLA   \n",
       "\n",
       "                               to  cost_center_id  \\\n",
       "0  HORIZONTE LOCADORA DE VEÍCULOS              21   \n",
       "1  HORIZONTE LOCADORA DE VEÍCULOS              21   \n",
       "2  HORIZONTE LOCADORA DE VEÍCULOS              21   \n",
       "3  HORIZONTE LOCADORA DE VEÍCULOS              21   \n",
       "4  HORIZONTE LOCADORA DE VEÍCULOS              21   \n",
       "\n",
       "                                    cost_center_name  \n",
       "0  VI.a - Locação ou fretamento de veículos autom...  \n",
       "1  VI.a - Locação ou fretamento de veículos autom...  \n",
       "2  VI.a - Locação ou fretamento de veículos autom...  \n",
       "3  VI.a - Locação ou fretamento de veículos autom...  \n",
       "4  VI.a - Locação ou fretamento de veículos autom...  "
      ]
     },
     "execution_count": 33,
     "metadata": {},
     "output_type": "execute_result"
    }
   ],
   "source": [
    "complete_clean.head()"
   ]
  },
  {
   "cell_type": "code",
   "execution_count": 35,
   "metadata": {},
   "outputs": [],
   "source": [
    "# complete_clean.to_csv('./data/complete_30082020.csv')"
   ]
  },
  {
   "cell_type": "code",
   "execution_count": null,
   "metadata": {},
   "outputs": [],
   "source": [
    "complete_clean.groupby['value'].sum()"
   ]
  }
 ],
 "metadata": {
  "kernelspec": {
   "display_name": "Python 3",
   "language": "python",
   "name": "python3"
  },
  "language_info": {
   "codemirror_mode": {
    "name": "ipython",
    "version": 3
   },
   "file_extension": ".py",
   "mimetype": "text/x-python",
   "name": "python",
   "nbconvert_exporter": "python",
   "pygments_lexer": "ipython3",
   "version": "3.7.6"
  }
 },
 "nbformat": 4,
 "nbformat_minor": 4
}
